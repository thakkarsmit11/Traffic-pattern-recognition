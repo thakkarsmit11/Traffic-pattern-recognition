{
 "cells": [
  {
   "cell_type": "markdown",
   "id": "77463004",
   "metadata": {},
   "source": [
    "# Libraries"
   ]
  },
  {
   "cell_type": "code",
   "execution_count": 2,
   "id": "1994b572",
   "metadata": {
    "scrolled": false
   },
   "outputs": [],
   "source": [
    "import random\n",
    "import sys\n",
    "import copy\n",
    "import sys \n",
    "import math\n",
    "import statsmodels.api as sm\n",
    "import numpy as np \n",
    "import pandas as pd\n",
    "import itertools\n",
    "import os\n",
    "import time\n",
    "import warnings\n",
    "\n",
    "import matplotlib as mpl\n",
    "from matplotlib import pyplot as plt\n",
    "from matplotlib.backends.backend_pdf import PdfPages\n",
    "from matplotlib import pyplot as plt\n",
    "\n",
    "from datetime import datetime\n",
    "from numpy.random import multinomial\n",
    "from statsmodels.distributions.mixture_rvs import mixture_rvs\n",
    "from random import randrange\n",
    "from statistics import mean\n",
    "from statistics import median\n",
    "from math import sqrt\n",
    "from math import pow\n",
    "from math import log2\n",
    "from bisect import bisect_left\n",
    "\n",
    "from sklearn.cluster import AgglomerativeClustering\n",
    "from sklearn import metrics\n",
    "from sklearn.metrics import silhouette_samples, silhouette_score\n",
    "from scipy.cluster.hierarchy import ClusterWarning\n",
    "from warnings import simplefilter\n",
    "\n",
    "simplefilter(\"ignore\", ClusterWarning)\n",
    "warnings.simplefilter(action='ignore', category=FutureWarning)\n",
    "mpl.rc('figure', max_open_warning = 0)"
   ]
  },
  {
   "cell_type": "markdown",
   "id": "0dcf9bc2",
   "metadata": {},
   "source": [
    "# Creating directory"
   ]
  },
  {
   "cell_type": "code",
   "execution_count": 3,
   "id": "c0ec74c8",
   "metadata": {
    "scrolled": true
   },
   "outputs": [],
   "source": [
    "start  = datetime.now()\n",
    "start_string = str(start.strftime(\"%d-%m-%Y_%H_%M\"))\n",
    "folder_name = \"SS_\"+ start_string\n",
    "file_extension = \".txt\"\n",
    "file_name =  \"SS_\"+ start_string + file_extension\n",
    "os.mkdir(folder_name)\n",
    "os.chdir(folder_name)"
   ]
  },
  {
   "cell_type": "markdown",
   "id": "fbcbfc77",
   "metadata": {},
   "source": [
    "# Data loading and processing"
   ]
  },
  {
   "cell_type": "code",
   "execution_count": 4,
   "id": "0bf3a56a",
   "metadata": {
    "scrolled": true
   },
   "outputs": [],
   "source": [
    "data1 = pd.read_csv(r\"C:\\Users\\n10387684\\OneDrive - Queensland University of Technology\\1_QUT\\Codes\\GitHub\\TTR_AS\\Data_Finucane road\\TT_all_day_morning.csv\")"
   ]
  },
  {
   "cell_type": "code",
   "execution_count": 5,
   "id": "5ec04e80",
   "metadata": {
    "scrolled": true
   },
   "outputs": [],
   "source": [
    "def data_process(data):\n",
    "\n",
    "    data2 = pd.DataFrame(data) #Converting data to dataframe\n",
    "    data3 = data2.drop([0, 1]) # Removing first two rows\n",
    "    data4 = data3.drop(data3.iloc[:, 0:2], axis=1) # Dropping first three columns\n",
    "    data5 = data4.T\n",
    "    \n",
    "    #convert dataframe to array\n",
    "    data6 = data5.to_numpy(dtype=float)\n",
    "    data7 = data6.copy()\n",
    "    df = data7*60\n",
    "    df = df[:,0:12] # all intervals\n",
    "\n",
    "    print('Data loaded')\n",
    "    \n",
    "    return df"
   ]
  },
  {
   "cell_type": "code",
   "execution_count": 7,
   "id": "d4af7734",
   "metadata": {},
   "outputs": [
    {
     "name": "stdout",
     "output_type": "stream",
     "text": [
      "Data loaded\n"
     ]
    },
    {
     "data": {
      "text/plain": [
       "366"
      ]
     },
     "execution_count": 7,
     "metadata": {},
     "output_type": "execute_result"
    }
   ],
   "source": [
    "df = data_process(data1)\n",
    "len(df)"
   ]
  },
  {
   "cell_type": "markdown",
   "id": "5db1b309",
   "metadata": {},
   "source": [
    "# Dynamic Time Wrapping"
   ]
  },
  {
   "cell_type": "code",
   "execution_count": null,
   "id": "44a2e95e",
   "metadata": {},
   "outputs": [],
   "source": [
    "def dtw(s, t):\n",
    "    n, m = len(s), len(t)\n",
    "    dtw_matrix = np.zeros((n+1, m+1))\n",
    "    for i in range(n+1):\n",
    "        for j in range(m+1):\n",
    "            dtw_matrix[i, j] = np.inf\n",
    "    dtw_matrix[0, 0] = 0\n",
    "    \n",
    "    for i in range(1, n+1):\n",
    "        for j in range(1, m+1):\n",
    "            cost = abs(s[i-1] - t[j-1])\n",
    "            # take last min from a square box\n",
    "            last_min = np.min([dtw_matrix[i-1, j], dtw_matrix[i, j-1], dtw_matrix[i-1, j-1]])\n",
    "            dtw_matrix[i, j] = cost + last_min\n",
    "    return dtw_matrix"
   ]
  },
  {
   "cell_type": "code",
   "execution_count": null,
   "id": "53525264",
   "metadata": {},
   "outputs": [],
   "source": [
    "# # a = df[0]\n",
    "# # b = df[20]\n",
    "\n",
    "# a = [100,200,300,400,500]\n",
    "# b = [500,400,300,200,100]\n",
    "# c = [90,100,200,300,400]\n",
    "\n",
    "# print(dtw(a,b))\n",
    "# print(dtw(a,c))\n",
    "# print(dtw(b,c))"
   ]
  },
  {
   "cell_type": "code",
   "execution_count": null,
   "id": "a920a705",
   "metadata": {},
   "outputs": [],
   "source": [
    "def dtw_dist(df):\n",
    "\n",
    "    values = []\n",
    "    start_day_dtw = []\n",
    "    end_day_dtw = []\n",
    "\n",
    "    for i in range(0,10): # len(df) 0,10\n",
    "        for j in range(0,10):\n",
    "            if i>j:\n",
    "                \n",
    "                q = dtw(df[i], df[j])\n",
    "                dtw_d = q[len(df[0])][len(df[0])]\n",
    "                values.append(q[len(df[0])][len(df[0])])\n",
    "                start_day_dtw.append(i)\n",
    "                end_day_dtw.append(j)\n",
    "                \n",
    "    dtw_table_day = pd.DataFrame({'start_day':start_day_dtw, 'end_day':end_day_dtw,'values': values})\n",
    "\n",
    "    dtw_table_day['Norm_dtw'] = (dtw_table_day['values']-dtw_table_day['values'].min())/(dtw_table_day['values'].max()-dtw_table_day['values'].min())\n",
    "\n",
    "    dtw_distance_matrix = pd.pivot_table(dtw_table_day, values='Norm_dtw', index=['start_day'], columns=['end_day'], aggfunc='mean')\n",
    "    dtw_distance_matrix.values[[np.arange(dtw_distance_matrix.shape[0])]*2] = 0\n",
    "    dtw_distance_matrix = dtw_distance_matrix.fillna(0.0)\n",
    "    dtw_distance_matrix = dtw_distance_matrix.to_numpy()\n",
    "    dtw_distance_matrix = dtw_distance_matrix + dtw_distance_matrix.T\n",
    "    dtw_distance_matrix = pd.DataFrame(dtw_distance_matrix)\n",
    "    \n",
    "    return dtw_distance_matrix, dtw_table_day"
   ]
  },
  {
   "cell_type": "code",
   "execution_count": null,
   "id": "6d24d229",
   "metadata": {},
   "outputs": [],
   "source": []
  },
  {
   "cell_type": "markdown",
   "id": "56d27023",
   "metadata": {},
   "source": [
    "# DTW comparision plot"
   ]
  },
  {
   "cell_type": "code",
   "execution_count": null,
   "id": "9e95ef71",
   "metadata": {
    "scrolled": true
   },
   "outputs": [],
   "source": [
    "def plotsssssss(i,j, p1,p2,str_dist,pdf):\n",
    "    '''\n",
    "    Creates plots of distribution pairs between days\n",
    "    '''\n",
    "    \n",
    "    fig = plt.figure(figsize=(15, 8))\n",
    "    ax = fig.add_subplot(111)\n",
    "    \n",
    "    xticklabels = ['6:00-6:15', '6:15-6:30', '6:30-6:45', '6:45-7:00', '7:00-7:15', '7:15-7:30','7:30-7:45', \n",
    "              '7:45-8:00', '8:00-8:15', '8:15-8:30','8:30-8:45','8:45-9:00']\n",
    "\n",
    "    y_1 = p1\n",
    "    y_2 = p2\n",
    "    \n",
    "    x1,y1 = zip(*sorted(zip(xticklabels,y_1),key=lambda x: x[0]))\n",
    "    x2,y2 = zip(*sorted(zip(xticklabels,y_2),key=lambda x: x[0]))\n",
    "    \n",
    "    ax.plot(x1, y1, lw=3, zorder=10,label='Day %s' % i)\n",
    "    ax.plot(x2, y2, lw=3, zorder=10,linestyle='--',label='Day %s' % j)\n",
    "    \n",
    "    plt.rcParams[\"font.weight\"] = \"bold\"\n",
    "    plt.rcParams[\"axes.labelweight\"] = \"bold\"\n",
    "    \n",
    "    plt.rc('axes', labelsize=30)    # fontsize of the x and y labels\n",
    "    plt.rc('xtick', labelsize=30)    # fontsize of the tick labels\n",
    "    plt.rc('ytick', labelsize=30)    # fontsize of the tick labels\n",
    "    plt.rc('legend', fontsize=35)    # legend fontsize\n",
    "    plt.xticks(rotation=30)\n",
    "    plt.xlabel('Time intervals' + '||' + ' ' + 'DTW distance:' + ' '+ str(str_dist), fontsize=35 )\n",
    "    plt.ylabel('Travel time (S)', fontsize=35)\n",
    "\n",
    "    plt.legend()\n",
    "    plt.show()\n",
    "    \n",
    "    return pdf.savefig(fig)"
   ]
  },
  {
   "cell_type": "code",
   "execution_count": null,
   "id": "866e038f",
   "metadata": {},
   "outputs": [],
   "source": [
    "def dtw_plot(df):\n",
    "    \n",
    "    dtw_distance_matrix, dtw_table_day = dtw_dist(df)\n",
    "    \n",
    "    min_dtw = dtw_table_day['values'].min()\n",
    "    max_dtw = dtw_table_day['values'].max()\n",
    "\n",
    "    values = []\n",
    "    start_day_dtw = []\n",
    "    end_day_dtw = []\n",
    "    \n",
    "    dtw_plot = PdfPages('dtw_plot.pdf')\n",
    "    \n",
    "    for i in range(len(df)): # len(df) 0,10\n",
    "        for j in range(len(df)):\n",
    "            if i>j:\n",
    "                q = dtw(df[i], df[j])\n",
    "                dtw_d = q[len(df[0])][len(df[0])]\n",
    "                dtw_d = (dtw_d-min_dtw)/(max_dtw-min_dtw)\n",
    "                dtw_d = round(dtw_d,2)\n",
    "                plot = plotsssssss(i,j, df[i],df[j], dtw_d, dtw_plot)\n",
    "    \n",
    "    dtw_plot.close()\n",
    "    \n",
    "    return dtw_distance_matrix, dtw_table_day"
   ]
  },
  {
   "cell_type": "code",
   "execution_count": null,
   "id": "92c19281",
   "metadata": {
    "scrolled": false
   },
   "outputs": [],
   "source": [
    "dtw_distance_matrix, dtw_table_day = dtw_plot(df)"
   ]
  },
  {
   "cell_type": "code",
   "execution_count": null,
   "id": "1affcbea",
   "metadata": {},
   "outputs": [],
   "source": []
  }
 ],
 "metadata": {
  "kernelspec": {
   "display_name": "Python 3",
   "language": "python",
   "name": "python3"
  },
  "language_info": {
   "codemirror_mode": {
    "name": "ipython",
    "version": 3
   },
   "file_extension": ".py",
   "mimetype": "text/x-python",
   "name": "python",
   "nbconvert_exporter": "python",
   "pygments_lexer": "ipython3",
   "version": "3.7.6"
  }
 },
 "nbformat": 4,
 "nbformat_minor": 5
}
